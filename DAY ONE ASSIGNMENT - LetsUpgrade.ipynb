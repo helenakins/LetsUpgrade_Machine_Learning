{
 "cells": [
  {
   "cell_type": "markdown",
   "id": "84a649df",
   "metadata": {},
   "source": [
    "## DAY ONE ASSIGNMENT"
   ]
  },
  {
   "cell_type": "code",
   "execution_count": 4,
   "id": "d71d74a4",
   "metadata": {},
   "outputs": [],
   "source": [
    "#import the numpy library\n",
    "import numpy as np"
   ]
  },
  {
   "cell_type": "code",
   "execution_count": 5,
   "id": "6849b004",
   "metadata": {},
   "outputs": [
    {
     "data": {
      "text/plain": [
       "array([[44, 22, 14, 23, 49],\n",
       "       [24, 13, 27, 17, 29],\n",
       "       [43, 38, 44, 24, 26],\n",
       "       [29, 44, 34, 38, 36],\n",
       "       [30, 49, 49, 33, 35]])"
      ]
     },
     "execution_count": 5,
     "metadata": {},
     "output_type": "execute_result"
    }
   ],
   "source": [
    "#generate a 5x5 matrix of random integers\n",
    "\n",
    "a=np.random.randint(10,50, (5,5))\n",
    "a"
   ]
  },
  {
   "cell_type": "code",
   "execution_count": 8,
   "id": "4bbc720e",
   "metadata": {},
   "outputs": [
    {
     "data": {
      "text/plain": [
       "array([[44, 24, 26],\n",
       "       [34, 38, 36],\n",
       "       [49, 33, 35]])"
      ]
     },
     "execution_count": 8,
     "metadata": {},
     "output_type": "execute_result"
    }
   ],
   "source": [
    "#Slicing\n",
    "#To call the elements FROM the THIRD row and the last THREE columns\n",
    "\n",
    "a[2:,2:]"
   ]
  },
  {
   "cell_type": "code",
   "execution_count": 9,
   "id": "4b68e235",
   "metadata": {},
   "outputs": [
    {
     "data": {
      "text/plain": [
       "array([[24, 26],\n",
       "       [38, 36],\n",
       "       [33, 35]])"
      ]
     },
     "execution_count": 9,
     "metadata": {},
     "output_type": "execute_result"
    }
   ],
   "source": [
    "#To call the elements FROM the THIRD row and the last TWO columns\n",
    "\n",
    "a[2:, 3:]"
   ]
  },
  {
   "cell_type": "code",
   "execution_count": 10,
   "id": "a3718943",
   "metadata": {},
   "outputs": [
    {
     "data": {
      "text/plain": [
       "array([[44, 24],\n",
       "       [34, 38],\n",
       "       [49, 33]])"
      ]
     },
     "execution_count": 10,
     "metadata": {},
     "output_type": "execute_result"
    }
   ],
   "source": [
    "#To call the elements FROM the THIRD row and the THIRD AND FOURTH columns\n",
    "\n",
    "a[2:, 2:4]"
   ]
  },
  {
   "cell_type": "code",
   "execution_count": null,
   "id": "afa21bfa",
   "metadata": {},
   "outputs": [],
   "source": []
  }
 ],
 "metadata": {
  "kernelspec": {
   "display_name": "Python 3 (ipykernel)",
   "language": "python",
   "name": "python3"
  },
  "language_info": {
   "codemirror_mode": {
    "name": "ipython",
    "version": 3
   },
   "file_extension": ".py",
   "mimetype": "text/x-python",
   "name": "python",
   "nbconvert_exporter": "python",
   "pygments_lexer": "ipython3",
   "version": "3.9.7"
  }
 },
 "nbformat": 4,
 "nbformat_minor": 5
}
